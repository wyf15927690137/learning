{
 "cells": [
  {
   "cell_type": "markdown",
   "metadata": {},
   "source": [
    "for datetime module, only the arithmetic operations of the same datetype objects are supported"
   ]
  },
  {
   "cell_type": "code",
   "execution_count": 2,
   "metadata": {},
   "outputs": [
    {
     "name": "stdout",
     "output_type": "stream",
     "text": [
      "false\n"
     ]
    }
   ],
   "source": [
    "jo = [\"1\"]\n",
    "if not jo:\n",
    "    print(\"true\")\n",
    "else:\n",
    "    print(\"false\")"
   ]
  },
  {
   "cell_type": "code",
   "execution_count": 5,
   "metadata": {},
   "outputs": [
    {
     "name": "stdout",
     "output_type": "stream",
     "text": [
      "today: \n",
      " 2022-12-01\n",
      "newyear: \n",
      " 2022-03-04\n",
      "newdate: \n",
      " 2022-11-24\n",
      "newdate-newyear: \n",
      " 265 days, 0:00:00\n",
      "2022-11-29 08:30:07\n",
      "2022-11-30 11:35:45\n",
      "1 day, 3:05:38\n"
     ]
    }
   ],
   "source": [
    "import datetime\n",
    "today = datetime.date.today()\n",
    "newyear = datetime.date(2022, 3, 4)\n",
    "newdate = datetime.date(2022, 11, 24)\n",
    "\n",
    "print(f\"today: \\n {today}\")\n",
    "print(f\"newyear: \\n {newyear}\")\n",
    "print(f\"newdate: \\n {newdate}\")\n",
    "\n",
    "print(f\"newdate-newyear: \\n {newdate-newyear}\")\n",
    "\n",
    "t1 = \"2022-11-29 08:30:07\"\n",
    "t2 = \"2022-11-30 11:35:45\"\n",
    "t1_st = datetime.datetime.strptime(t1,\"%Y-%m-%d %H:%M:%S\")\n",
    "t2_st = datetime.datetime.strptime(t2,\"%Y-%m-%d %H:%M:%S\")\n",
    "print(t1_st)\n",
    "print(t2_st)\n",
    "print(t2_st-t1_st)"
   ]
  },
  {
   "cell_type": "code",
   "execution_count": 3,
   "metadata": {},
   "outputs": [
    {
     "name": "stdout",
     "output_type": "stream",
     "text": [
      "noon: \n",
      " 12:00:00\n",
      "now: \n",
      " 2022-11-30 17:31:28.550084\n",
      "my: \n",
      " 2000-01-01 00:00:00\n",
      "now-my: \n",
      " 8369 days, 17:31:28.550084\n",
      "delta: \n",
      " 8369 days, 17:31:28.550084\n",
      "delta1: \n",
      " 1673 days, 22:42:17.710017\n",
      "delta,days: \n",
      " 8369\n",
      "delta1,days: \n",
      " 1673\n"
     ]
    }
   ],
   "source": [
    "import datetime\n",
    "\n",
    "noon = datetime.time(12, 0, 0)\n",
    "now = datetime.datetime.now()\n",
    "my = datetime.datetime(2000, 1, 1, 0, 0, 0)\n",
    "delta = now -my\n",
    "delta1 = delta/5\n",
    "\n",
    "print(f\"noon: \\n {noon}\")\n",
    "print(f\"now: \\n {now}\")\n",
    "print(f\"my: \\n {my}\")\n",
    "\n",
    "print(f\"now-my: \\n {now -my}\")\n",
    "print(f\"delta: \\n {delta}\")\n",
    "print(f\"delta1: \\n {delta1}\")\n",
    "print(f\"delta,days: \\n {delta.days}\")\n",
    "print(f\"delta1,days: \\n {delta1.days}\")\n"
   ]
  },
  {
   "cell_type": "code",
   "execution_count": 18,
   "metadata": {},
   "outputs": [
    {
     "name": "stdout",
     "output_type": "stream",
     "text": [
      "2022-11-30 14:09:15.039096\n",
      "2022-11-10 00:00:00\n",
      "20 days, 14:09:15.039096\n",
      "50955\n",
      "20\n"
     ]
    }
   ],
   "source": [
    "from datetime import datetime, timedelta\n",
    "now = datetime.now()\n",
    "then = datetime(2022,11,10)     # datetime.datetime(2016, 05, 23, 0, 0, 0)\n",
    "print(now)\n",
    "print(then)\n",
    "delta = now - then\n",
    "print(delta)\n",
    "print(delta.seconds)\n",
    "print(delta.days)\n",
    "\n",
    "time0 = \"2022-11-09 22:36:04\"\n",
    "time1 = \"2022-11-09 22:38:04\""
   ]
  },
  {
   "cell_type": "code",
   "execution_count": 30,
   "metadata": {},
   "outputs": [
    {
     "name": "stdout",
     "output_type": "stream",
     "text": [
      "datetime_string: 2016-10-01 00:02:05\n",
      "datetime_stamp_x : 2022-11-23 13:23:04\n"
     ]
    }
   ],
   "source": [
    "\n",
    "import datetime\n",
    "datetime_for_string = datetime.datetime(2016,10,1,0,2,5)\n",
    "datetime_string_format = '%Y-%m-%d %H:%M:%S'\n",
    "datetime_string = datetime.datetime.strftime(datetime_for_string,datetime_string_format)\n",
    "print(f\"datetime_string: {datetime_string}\")\n",
    "\n",
    "datetime_string_x = '13:23:04 2022-11-23'\n",
    "datetime_string_x_format = '%H:%M:%S %Y-%m-%d'\n",
    "datetime_stamp_x = datetime.datetime.strptime(datetime_string_x,datetime_string_x_format)\n",
    "print(f\"datetime_stamp_x : {datetime_stamp_x}\")\n"
   ]
  }
 ],
 "metadata": {
  "kernelspec": {
   "display_name": "Python 3.7.0 64-bit",
   "language": "python",
   "name": "python3"
  },
  "language_info": {
   "codemirror_mode": {
    "name": "ipython",
    "version": 3
   },
   "file_extension": ".py",
   "mimetype": "text/x-python",
   "name": "python",
   "nbconvert_exporter": "python",
   "pygments_lexer": "ipython3",
   "version": "3.7.0"
  },
  "orig_nbformat": 4,
  "vscode": {
   "interpreter": {
    "hash": "a2fc8562a39963baa274e4278b9edca8fe2bbfb1eba010373c53e62e7cba3dbe"
   }
  }
 },
 "nbformat": 4,
 "nbformat_minor": 2
}
