{
 "cells": [
  {
   "cell_type": "code",
   "execution_count": 1,
   "metadata": {},
   "outputs": [
    {
     "name": "stdout",
     "output_type": "stream",
     "text": [
      "TestRandomFail\n",
      "[11, 10, 9]\n",
      "{'Product': 'xim'}\n",
      "UNSTABLE\n",
      "{'Product': 'xim'}\n",
      "ABORTED\n",
      "{'Product': 'xim'}\n",
      "SUCCESS\n"
     ]
    }
   ],
   "source": [
    "from jenkinsapi.jenkins import Jenkins\n",
    "\n",
    "usernameJenkins = \"admin\"\n",
    "passwordJenkins = \"admin123456789\"\n",
    "jenkinsWindowsUrl = 'http://srv-speedxpi6:9090'\n",
    "jenkinsLinuxUrl = 'http://si-rdtest1:9090'\n",
    "J = Jenkins(jenkinsLinuxUrl,usernameJenkins,passwordJenkins, timeout=30)\n",
    "jobMaster = \"TestRandomFail\"\n",
    "job = J.get_job(jobMaster)\n",
    "print(job)\n",
    "\n",
    "ids = job.get_build_ids()\n",
    "ids = list(ids)\n",
    "if len(ids) > 3:\n",
    "    ids = ids[:3]\n",
    "print(ids)\n",
    "for idNo in ids:\n",
    "    build = job.get_build(idNo)\n",
    "    params = build.get_params()\n",
    "    status = build.get_status()\n",
    "    print(params)\n",
    "    print(status)\n"
   ]
  },
  {
   "cell_type": "code",
   "execution_count": 1,
   "metadata": {},
   "outputs": [
    {
     "name": "stdout",
     "output_type": "stream",
     "text": [
      "True\n"
     ]
    }
   ],
   "source": [
    "x =\"\"\n",
    "print(not x)"
   ]
  },
  {
   "cell_type": "code",
   "execution_count": 4,
   "metadata": {},
   "outputs": [
    {
     "name": "stdout",
     "output_type": "stream",
     "text": [
      "Sigrity_Continue_main\n",
      "[2447, 2446, 2445]\n",
      "{'changelist': '393953', 'id': '648186c2-e420-46a8-80a5-7b098289b0dd', 'batchid': 'f223ee76-a723-4799-b03a-6b8f3d69c9a1', 'needBuildShareLib': 'false', 'version': 'main_in_one', 'username': 'yanfeiw', 'BuildVersion': '23.10.1206.399165'}\n",
      "FAILURE\n",
      "{'changelist': '393953', 'id': 'cf502ae4-d6e0-4ac4-a81d-d61c551c8624', 'batchid': '4aa984f0-d015-4693-9f81-bae2debc0708'}\n",
      "FAILURE\n",
      "{'id': 'LeaveAlone', 'batchid': 'LeaveAlone', 'changelist': '399822', 'needBuildShareLib': 'true', 'version': 'main_in_one', 'username': 'kekez', 'BuildVersion': '23.10.1211.400070'}\n",
      "UNSTABLE\n"
     ]
    }
   ],
   "source": [
    "usernameJenkins = \"yanfeiw\"\n",
    "passwordJenkins = \"Yfw@1234\"\n",
    "jenkinsPost = 'http://master-sigrity.cadence.com'\n",
    "J = Jenkins(jenkinsPost, usernameJenkins, passwordJenkins, timeout=150)\n",
    "jobMaster = \"Sigrity_Continue_main\"\n",
    "job = J.get_job(jobMaster)\n",
    "print(job)\n",
    "\n",
    "ids = job.get_build_ids()\n",
    "ids = list(ids)\n",
    "if len(ids) > 3:\n",
    "    ids = ids[:3]\n",
    "print(ids)\n",
    "for idNo in ids:\n",
    "    build = job.get_build(idNo)\n",
    "    params = build.get_params()\n",
    "    status = build.get_status()\n",
    "    print(params)\n",
    "    print(status)"
   ]
  }
 ],
 "metadata": {
  "kernelspec": {
   "display_name": "Python 3.7.0 64-bit",
   "language": "python",
   "name": "python3"
  },
  "language_info": {
   "codemirror_mode": {
    "name": "ipython",
    "version": 3
   },
   "file_extension": ".py",
   "mimetype": "text/x-python",
   "name": "python",
   "nbconvert_exporter": "python",
   "pygments_lexer": "ipython3",
   "version": "3.7.0"
  },
  "orig_nbformat": 4,
  "vscode": {
   "interpreter": {
    "hash": "a2fc8562a39963baa274e4278b9edca8fe2bbfb1eba010373c53e62e7cba3dbe"
   }
  }
 },
 "nbformat": 4,
 "nbformat_minor": 2
}
