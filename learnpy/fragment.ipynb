{
 "cells": [
  {
   "attachments": {},
   "cell_type": "markdown",
   "metadata": {},
   "source": [
    "how to use uuid to generate random string"
   ]
  },
  {
   "cell_type": "code",
   "execution_count": 2,
   "metadata": {},
   "outputs": [
    {
     "name": "stdout",
     "output_type": "stream",
     "text": [
      "['3']\n"
     ]
    }
   ],
   "source": [
    "x = []\n",
    "x.append(\"3\")\n",
    "print(x)"
   ]
  },
  {
   "cell_type": "code",
   "execution_count": 9,
   "metadata": {},
   "outputs": [
    {
     "name": "stdout",
     "output_type": "stream",
     "text": [
      "1900-01-01 00:00:00\n",
      "0:00:00\n",
      "23:59:59\n",
      "0:03:06\n",
      "yes\n"
     ]
    }
   ],
   "source": [
    "import datetime\n",
    "\n",
    "zero_time = datetime.datetime.strptime(\"00:00:00\",\"%H:%M:%S\")\n",
    "max_time_cost = zero_time - zero_time\n",
    "min_time_cost = datetime.datetime.strptime(\"23:59:59\",\"%H:%M:%S\") - zero_time\n",
    "print(zero_time)\n",
    "print(max_time_cost)\n",
    "print(min_time_cost)\n",
    " \n",
    "x =  datetime.timedelta(seconds=186)\n",
    "print(x)\n",
    "if max_time_cost - x < max_time_cost :\n",
    "    print(\"yes\")"
   ]
  },
  {
   "cell_type": "code",
   "execution_count": 5,
   "metadata": {},
   "outputs": [
    {
     "name": "stdout",
     "output_type": "stream",
     "text": [
      "0e31a740-7a11-11ed-b4a8-7486e2171d40\n",
      "c419473e-a163-4b7b-9e60-8282a6a637f1\n"
     ]
    }
   ],
   "source": [
    "import uuid\n",
    "v1 = uuid.uuid1()\n",
    "v4 = uuid.uuid4()\n",
    "print(v1)\n",
    "print(v4)"
   ]
  }
 ],
 "metadata": {
  "kernelspec": {
   "display_name": "Python 3.7.0 64-bit",
   "language": "python",
   "name": "python3"
  },
  "language_info": {
   "codemirror_mode": {
    "name": "ipython",
    "version": 3
   },
   "file_extension": ".py",
   "mimetype": "text/x-python",
   "name": "python",
   "nbconvert_exporter": "python",
   "pygments_lexer": "ipython3",
   "version": "3.7.0"
  },
  "orig_nbformat": 4,
  "vscode": {
   "interpreter": {
    "hash": "a2fc8562a39963baa274e4278b9edca8fe2bbfb1eba010373c53e62e7cba3dbe"
   }
  }
 },
 "nbformat": 4,
 "nbformat_minor": 2
}
