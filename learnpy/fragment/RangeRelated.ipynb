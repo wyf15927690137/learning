{
 "cells": [
  {
   "cell_type": "code",
   "execution_count": null,
   "metadata": {},
   "outputs": [],
   "source": [
    "for i in range(5):\n",
    "    print(i)"
   ]
  },
  {
   "cell_type": "code",
   "execution_count": 1,
   "metadata": {},
   "outputs": [
    {
     "name": "stdout",
     "output_type": "stream",
     "text": [
      "3\n"
     ]
    }
   ],
   "source": [
    "x = None\n",
    "y = 1\n",
    "if x :\n",
    "    y = 2\n",
    "else:\n",
    "    y= 3\n",
    "print(y)"
   ]
  },
  {
   "cell_type": "code",
   "execution_count": 6,
   "metadata": {},
   "outputs": [
    {
     "name": "stdout",
     "output_type": "stream",
     "text": [
      "no\n"
     ]
    }
   ],
   "source": [
    "if 'a'< '9':\n",
    "else:\n",
    "    print(\"no\")"
   ]
  },
  {
   "cell_type": "code",
   "execution_count": 7,
   "metadata": {},
   "outputs": [
    {
     "name": "stdout",
     "output_type": "stream",
     "text": [
      "The result: 1.200000\n",
      "round result: 1\n",
      "round down: 1\n",
      "round up: 2\n",
      "(0.19999999999999996, 1.0)\n"
     ]
    }
   ],
   "source": [
    "from math import ceil\n",
    "from math import modf\n",
    "x= 6/5\n",
    "print(\"The result: %f\" %x)\n",
    "print(\"round result: %d\" %round(x))\n",
    "print(\"round down: %d\" %int(x))\n",
    "print(\"round up: %d\" %ceil(x))\n",
    "print(modf(x))"
   ]
  }
 ],
 "metadata": {
  "kernelspec": {
   "display_name": "Python 3.7.0 64-bit",
   "language": "python",
   "name": "python3"
  },
  "language_info": {
   "codemirror_mode": {
    "name": "ipython",
    "version": 3
   },
   "file_extension": ".py",
   "mimetype": "text/x-python",
   "name": "python",
   "nbconvert_exporter": "python",
   "pygments_lexer": "ipython3",
   "version": "3.7.0"
  },
  "orig_nbformat": 4,
  "vscode": {
   "interpreter": {
    "hash": "a2fc8562a39963baa274e4278b9edca8fe2bbfb1eba010373c53e62e7cba3dbe"
   }
  }
 },
 "nbformat": 4,
 "nbformat_minor": 2
}
