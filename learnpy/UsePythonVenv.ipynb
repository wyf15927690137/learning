{
 "cells": [
  {
   "cell_type": "markdown",
   "metadata": {},
   "source": [
    "<!-- create a venv named myenv -->\n",
    "python -m venv myenv\n",
    "\n",
    "cd myenv\n",
    "\n",
    "<!-- activate the virtual env -->\n",
    "source ./bin/activate.csh\n",
    "pip install requests\n",
    "pip install --upgrade pip\n",
    "\n",
    "<!-- then can use the virtual env -->\n",
    "\n",
    "<!-- exit venv -->\n",
    "deactivate"
   ]
  }
 ],
 "metadata": {
  "language_info": {
   "name": "python"
  },
  "orig_nbformat": 4
 },
 "nbformat": 4,
 "nbformat_minor": 2
}
