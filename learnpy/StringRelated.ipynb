{
 "cells": [
  {
   "cell_type": "markdown",
   "metadata": {},
   "source": [
    "String contain and upper(),lower()"
   ]
  },
  {
   "cell_type": "code",
   "execution_count": null,
   "metadata": {},
   "outputs": [],
   "source": [
    "def IfContain(s1,s2):\n",
    "    print(s1.upper())\n",
    "    print(s2.upper())\n",
    "\n",
    "    if s1.upper() in s2.upper():\n",
    "        print(\"yes\")\n",
    "    else:\n",
    "        print(\"no\")\n",
    "\n",
    "    return\n",
    "s1= \"sww\"\n",
    "s2= \"TTTsssWWWf\"\n",
    "IfContain(s1,s2)"
   ]
  },
  {
   "cell_type": "markdown",
   "metadata": {},
   "source": [
    "f string"
   ]
  },
  {
   "cell_type": "code",
   "execution_count": 2,
   "metadata": {},
   "outputs": [
    {
     "name": "stdout",
     "output_type": "stream",
     "text": [
      "name is WYF\n",
      "name is wyf\n",
      "WYF77\n"
     ]
    }
   ],
   "source": [
    "name = \"WYF\"\n",
    "print(f\"name is {name}\")\n",
    "print(f\"name is {name.lower()}\")\n",
    "name = name + str(77)\n",
    "print(name)"
   ]
  },
  {
   "cell_type": "markdown",
   "metadata": {},
   "source": [
    "r string"
   ]
  },
  {
   "cell_type": "code",
   "execution_count": 3,
   "metadata": {},
   "outputs": [
    {
     "name": "stdout",
     "output_type": "stream",
     "text": [
      "***\t***\n",
      "***\\t***\n"
     ]
    }
   ],
   "source": [
    "s1 = \"***\\t***\"\n",
    "# r will remove escaped character\n",
    "s2 = r\"***\\t***\"\n",
    "print(s1)\n",
    "print(s2)\n"
   ]
  },
  {
   "cell_type": "markdown",
   "metadata": {},
   "source": [
    "escaped character\n",
    "\n",
    "A line feed means moving one line forward. The code is \\n.\n",
    "A carriage return means moving the cursor to the beginning of the line. The code is \\r.\n",
    "\n",
    "Windows editors often still use the combination of both as \\r\\n in text files. Unix uses mostly only the \\n."
   ]
  },
  {
   "cell_type": "code",
   "execution_count": 5,
   "metadata": {},
   "outputs": [
    {
     "name": "stdout",
     "output_type": "stream",
     "text": [
      "###\n",
      "***\t###\n",
      "***\n",
      "###\n"
     ]
    }
   ],
   "source": [
    "s1 = \"***\\r###\"\n",
    "# indent\n",
    "s2 = \"***\\t###\"\n",
    "# line feed\n",
    "s3 = \"***\\n###\"\n",
    "print(s1)\n",
    "print(s2)\n",
    "print(s3)"
   ]
  }
 ],
 "metadata": {
  "kernelspec": {
   "display_name": "Python 3.7.0 64-bit",
   "language": "python",
   "name": "python3"
  },
  "language_info": {
   "codemirror_mode": {
    "name": "ipython",
    "version": 3
   },
   "file_extension": ".py",
   "mimetype": "text/x-python",
   "name": "python",
   "nbconvert_exporter": "python",
   "pygments_lexer": "ipython3",
   "version": "3.7.0"
  },
  "orig_nbformat": 4,
  "vscode": {
   "interpreter": {
    "hash": "a2fc8562a39963baa274e4278b9edca8fe2bbfb1eba010373c53e62e7cba3dbe"
   }
  }
 },
 "nbformat": 4,
 "nbformat_minor": 2
}
